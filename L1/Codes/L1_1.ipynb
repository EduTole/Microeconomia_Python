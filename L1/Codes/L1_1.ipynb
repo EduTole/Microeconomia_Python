{
 "cells": [
  {
   "cell_type": "markdown",
   "metadata": {},
   "source": [
    "<center>\n",
    "    <img src=\"upn_1.png\" width=\"400\" />\n",
    "</center>\n",
    "\n",
    "\n",
    "# Microeconomia 1\n",
    "## Analisis de Utilidad y preferencias\n",
    "\n",
    "\n",
    "La presente seccion se analizara los comandos en python que permitiran construir y realizar ejercicios matematicos respecto a la teoria del consumidor\n",
    "\n",
    "Los comandos usados son:\n",
    "\n",
    "- **librerias**: *numpy*, *sympy*\n",
    "- comando: symbols y subs opciones\n"
   ]
  },
  {
   "cell_type": "markdown",
   "metadata": {},
   "source": [
    "Se pide definir y construir la función de utilidad:\n",
    "\n",
    "$U=\\sqrt{xy}$\n",
    "\n",
    "Asignar valores de $x=5$ , $y=5$\n"
   ]
  },
  {
   "cell_type": "code",
   "execution_count": 1,
   "metadata": {},
   "outputs": [],
   "source": [
    "import numpy as np\n",
    "import sympy as sy\n",
    "sy.init_printing()\n",
    "\n",
    "x=sy.symbols(\"x\")\n",
    "y=sy.symbols(\"y\")"
   ]
  },
  {
   "cell_type": "markdown",
   "metadata": {},
   "source": [
    "### Funcion de utilidad Cobb-Douglas"
   ]
  },
  {
   "cell_type": "markdown",
   "metadata": {},
   "source": [
    "Deteminanos la forma de la utilidad"
   ]
  },
  {
   "cell_type": "code",
   "execution_count": 2,
   "metadata": {},
   "outputs": [
    {
     "data": {
      "image/png": "[encoded data removed]",
      "text/latex": [
       "$\\displaystyle \\sqrt{x y}$"
      ],
      "text/plain": [
       "  _____\n",
       "╲╱ x⋅y "
      ]
     },
     "execution_count": 2,
     "metadata": {},
     "output_type": "execute_result"
    }
   ],
   "source": [
    "U = sy.sqrt(x*y)\n",
    "U"
   ]
  },
  {
   "cell_type": "code",
   "execution_count": 3,
   "metadata": {},
   "outputs": [
    {
     "data": {
      "image/png": "[encoded data removed]",
      "text/latex": [
       "$\\displaystyle 5$"
      ],
      "text/plain": [
       "5"
      ]
     },
     "execution_count": 3,
     "metadata": {},
     "output_type": "execute_result"
    }
   ],
   "source": [
    "# Realizaremos una funcion de utilidad con grafico\n",
    "maxU = U.subs({x:5,y:5})\n",
    "maxU"
   ]
  },
  {
   "cell_type": "code",
   "execution_count": 4,
   "metadata": {},
   "outputs": [],
   "source": [
    "ci = (maxU/x)**(1/2)"
   ]
  },
  {
   "cell_type": "code",
   "execution_count": 5,
   "metadata": {},
   "outputs": [
    {
     "data": {
      "image/png": "[encoded data removed]",
      "text/plain": [
       "<Figure size 432x288 with 1 Axes>"
      ]
     },
     "metadata": {
      "needs_background": "light"
     },
     "output_type": "display_data"
    },
    {
     "data": {
      "text/plain": [
       "<sympy.plotting.plot.Plot at 0x2dd24bbf5b0>"
      ]
     },
     "execution_count": 5,
     "metadata": {},
     "output_type": "execute_result"
    }
   ],
   "source": [
    "from sympy import *\n",
    "plot(ci, (x,0,10), ylim=(0,10), xlim=(0,10), xlabel =\"valores x\", ylabel=\" valores y\", title=\"Curva de Indiferencia\")"
   ]
  },
  {
   "cell_type": "markdown",
   "metadata": {},
   "source": [
    "La utilidad marginal de la funcion de utilidad realizada\n",
    "$$UM_{x}=\\frac{\\partial U}{\\partial x}$$"
   ]
  },
  {
   "cell_type": "code",
   "execution_count": 6,
   "metadata": {},
   "outputs": [
    {
     "data": {
      "image/png": "[encoded data removed]",
      "text/latex": [
       "$\\displaystyle \\frac{\\sqrt{x y}}{2 x}$"
      ],
      "text/plain": [
       "  _____\n",
       "╲╱ x⋅y \n",
       "───────\n",
       "  2⋅x  "
      ]
     },
     "execution_count": 6,
     "metadata": {},
     "output_type": "execute_result"
    }
   ],
   "source": [
    "UMx=U.diff(x)\n",
    "UMx"
   ]
  },
  {
   "cell_type": "markdown",
   "metadata": {},
   "source": [
    "La utilidad marginal de la funcion de utilidad realizada\n",
    "$$UM_{y}=\\frac{\\partial U}{\\partial y}$$"
   ]
  },
  {
   "cell_type": "code",
   "execution_count": 7,
   "metadata": {},
   "outputs": [
    {
     "data": {
      "image/png": "[encoded data removed]",
      "text/latex": [
       "$\\displaystyle \\frac{\\sqrt{x y}}{2 y}$"
      ],
      "text/plain": [
       "  _____\n",
       "╲╱ x⋅y \n",
       "───────\n",
       "  2⋅y  "
      ]
     },
     "execution_count": 7,
     "metadata": {},
     "output_type": "execute_result"
    }
   ],
   "source": [
    "UMy=U.diff(y)\n",
    "UMy"
   ]
  },
  {
   "cell_type": "markdown",
   "metadata": {},
   "source": [
    "La tasa marginal de sustitucion:\n",
    "$$\n",
    "RMS=\\frac{UM_{x}}{UM_{y}}\n",
    "$$"
   ]
  },
  {
   "cell_type": "code",
   "execution_count": 8,
   "metadata": {},
   "outputs": [
    {
     "data": {
      "image/png": "[encoded data removed]",
      "text/latex": [
       "$\\displaystyle \\frac{y}{x}$"
      ],
      "text/plain": [
       "y\n",
       "─\n",
       "x"
      ]
     },
     "execution_count": 8,
     "metadata": {},
     "output_type": "execute_result"
    }
   ],
   "source": [
    "MRS= UMx / UMy\n",
    "MRS"
   ]
  },
  {
   "cell_type": "code",
   "execution_count": 9,
   "metadata": {},
   "outputs": [],
   "source": [
    "# Ejemplo 2\n",
    "# Definimos varios valores para x , y ; donde realizamos varias graficas\n",
    "\n",
    "CI_1 = U.subs({x:5,y:5})\n",
    "CI_2 = U.subs({x:25,y:30})"
   ]
  },
  {
   "cell_type": "code",
   "execution_count": 10,
   "metadata": {},
   "outputs": [],
   "source": [
    "ci_1 = (CI_1/x)**(1/2)\n",
    "ci_2 = (CI_2/x)**(1/2)"
   ]
  },
  {
   "cell_type": "code",
   "execution_count": 11,
   "metadata": {},
   "outputs": [
    {
     "data": {
      "image/png": "[encoded data removed]",
      "text/plain": [
       "<Figure size 432x288 with 1 Axes>"
      ]
     },
     "metadata": {
      "needs_background": "light"
     },
     "output_type": "display_data"
    },
    {
     "data": {
      "text/plain": [
       "<sympy.plotting.plot.Plot at 0x2dd144696d0>"
      ]
     },
     "execution_count": 11,
     "metadata": {},
     "output_type": "execute_result"
    }
   ],
   "source": [
    "from sympy import *\n",
    "plot(ci_1 , ci_2, (x,0,30), ylim=(0,10), xlim=(0,10), xlabel =\"valores x\", ylabel=\" valores y\", title=\"Curva de Indiferencia\")"
   ]
  },
  {
   "cell_type": "markdown",
   "metadata": {},
   "source": [
    "### Funcion de utilidad de sustitutos perfectos"
   ]
  },
  {
   "cell_type": "code",
   "execution_count": 39,
   "metadata": {},
   "outputs": [
    {
     "data": {
      "image/png": "[encoded data removed]",
      "text/plain": [
       "<Figure size 432x288 with 1 Axes>"
      ]
     },
     "metadata": {
      "needs_background": "light"
     },
     "output_type": "display_data"
    },
    {
     "data": {
      "text/plain": [
       "<sympy.plotting.plot.Plot at 0x1b861d97940>"
      ]
     },
     "execution_count": 39,
     "metadata": {},
     "output_type": "execute_result"
    }
   ],
   "source": [
    "U = x+y\n",
    "maxU = U.subs({x:5,y:5})\n",
    "ci = (maxU-x)\n",
    "from sympy import *\n",
    "plot(ci, (x,0,10), ylim=(0,10), xlim=(0,10), xlabel =\"valores x\", ylabel=\" valores y\", title=\"Curva de Indiferencia\")"
   ]
  },
  {
   "cell_type": "markdown",
   "metadata": {},
   "source": [
    "### Funcion de utilidad de cuasilineal"
   ]
  },
  {
   "cell_type": "code",
   "execution_count": 17,
   "metadata": {},
   "outputs": [
    {
     "data": {
      "image/png": "[encoded data removed]",
      "text/plain": [
       "<Figure size 432x288 with 1 Axes>"
      ]
     },
     "metadata": {
      "needs_background": "light"
     },
     "output_type": "display_data"
    },
    {
     "data": {
      "text/plain": [
       "<sympy.plotting.plot.Plot at 0x2dd28d84250>"
      ]
     },
     "execution_count": 17,
     "metadata": {},
     "output_type": "execute_result"
    }
   ],
   "source": [
    "U = x+y**1/2\n",
    "maxU = U.subs({x:4,y:4})\n",
    "ci = (maxU-x)**2\n",
    "from sympy import *\n",
    "plot(ci, (x,0,5), ylim=(0,25), xlim=(0,5), xlabel =\"valores x\", ylabel=\" valores y\", title=\"Curva de Indiferencia\")"
   ]
  },
  {
   "cell_type": "markdown",
   "metadata": {},
   "source": [
    "## Analisis de Utilidad y preferencias (funciones y objetos)\n"
   ]
  },
  {
   "cell_type": "markdown",
   "metadata": {},
   "source": [
    "### Funciones de utilidad\n",
    "\n",
    "Analizaremos la siguiente funcion de utilidad, sin embargo a través de opciones de objetos y asignando valores\n",
    "\n",
    "$U=xy$\n",
    "\n",
    "Comencemos con la funcion de utilidad como una definicion de utilidad:"
   ]
  },
  {
   "cell_type": "code",
   "execution_count": 2,
   "metadata": {},
   "outputs": [],
   "source": [
    "def utilidad(a,b):\n",
    "    x=sy.symbols(\"x\")\n",
    "    y=sy.symbols(\"y\")\n",
    "    U= x*y\n",
    "    Utilidad = U.subs({x:a, y:b})\n",
    "    return Utilidad\n"
   ]
  },
  {
   "cell_type": "markdown",
   "metadata": {},
   "source": [
    "Definicion de los valores de $a$ y $b$ los cuales coinciden con las variables $y$ , asi como $x$:"
   ]
  },
  {
   "cell_type": "code",
   "execution_count": 3,
   "metadata": {},
   "outputs": [
    {
     "data": {
      "image/png": "[encoded data removed]",
      "text/latex": [
       "$\\displaystyle 25$"
      ],
      "text/plain": [
       "25"
      ]
     },
     "execution_count": 3,
     "metadata": {},
     "output_type": "execute_result"
    }
   ],
   "source": [
    "utilidad(5,5)"
   ]
  },
  {
   "cell_type": "markdown",
   "metadata": {},
   "source": [
    "#### Ejercicio 1\n",
    "\n",
    "Analizaremos la presente funcion de utilidad\n",
    "\n",
    "$$\n",
    "U(x,y) = x+y \n",
    "$$"
   ]
  },
  {
   "cell_type": "code",
   "execution_count": 4,
   "metadata": {},
   "outputs": [],
   "source": [
    "# Definimos la funcion de utilidad\n",
    "def utilidad_sp(a,b):\n",
    "    x=sy.symbols('x')\n",
    "    y=sy.symbols('y')\n",
    "    \n",
    "    U= x+y\n",
    "    resultado = U.subs({x:a, y:b})\n",
    "    return resultado"
   ]
  },
  {
   "cell_type": "code",
   "execution_count": 5,
   "metadata": {},
   "outputs": [
    {
     "data": {
      "image/png": "[encoded data removed]",
      "text/latex": [
       "$\\displaystyle 70$"
      ],
      "text/plain": [
       "70"
      ]
     },
     "execution_count": 5,
     "metadata": {},
     "output_type": "execute_result"
    }
   ],
   "source": [
    "utilidad_sp(40,30)"
   ]
  },
  {
   "cell_type": "markdown",
   "metadata": {},
   "source": [
    "#### Ejercicio 2\n",
    "\n",
    "Analizaremos la presente funcion de utilidad\n",
    "\n",
    "$$\n",
    "U(x,y) = 3x+5y\n",
    "$$"
   ]
  },
  {
   "cell_type": "code",
   "execution_count": 7,
   "metadata": {},
   "outputs": [],
   "source": [
    "# Definimos la funcion de utilidad\n",
    "def utilidad_sp_n(a,b):\n",
    "    x=sy.symbols('x')\n",
    "    y=sy.symbols('y')\n",
    "    \n",
    "    U= (3*x)+(5*y)\n",
    "    resultado = U.subs({x:a, y:b})\n",
    "    return resultado"
   ]
  },
  {
   "cell_type": "code",
   "execution_count": 8,
   "metadata": {},
   "outputs": [
    {
     "data": {
      "image/png": "[encoded data removed]",
      "text/latex": [
       "$\\displaystyle 270$"
      ],
      "text/plain": [
       "270"
      ]
     },
     "execution_count": 8,
     "metadata": {},
     "output_type": "execute_result"
    }
   ],
   "source": [
    "utilidad_sp_n(40,30)"
   ]
  },
  {
   "cell_type": "markdown",
   "metadata": {},
   "source": [
    "Evaluacion de tipos de bienes"
   ]
  },
  {
   "cell_type": "code",
   "execution_count": 10,
   "metadata": {},
   "outputs": [],
   "source": [
    "A = utilidad(40,30)\n",
    "B = utilidad(20,30)"
   ]
  },
  {
   "cell_type": "code",
   "execution_count": 11,
   "metadata": {},
   "outputs": [
    {
     "data": {
      "image/png": "[encoded data removed]",
      "text/latex": [
       "$\\displaystyle 1200$"
      ],
      "text/plain": [
       "1200"
      ]
     },
     "execution_count": 11,
     "metadata": {},
     "output_type": "execute_result"
    }
   ],
   "source": [
    "A"
   ]
  },
  {
   "cell_type": "code",
   "execution_count": 12,
   "metadata": {},
   "outputs": [
    {
     "data": {
      "image/png": "[encoded data removed]",
      "text/latex": [
       "$\\displaystyle 600$"
      ],
      "text/plain": [
       "600"
      ]
     },
     "execution_count": 12,
     "metadata": {},
     "output_type": "execute_result"
    }
   ],
   "source": [
    "B"
   ]
  },
  {
   "cell_type": "markdown",
   "metadata": {},
   "source": [
    "### Utilidad marginal , tasa marginal \n",
    "\n",
    "Se vera temas de tasa marginal de sustitucion; para ello\n",
    "    \n",
    "    - Comando de derivadas\n",
    "    - Construccion de funciones de derivadas\n",
    "    "
   ]
  },
  {
   "cell_type": "markdown",
   "metadata": {},
   "source": [
    "#### Ejemplo \n",
    "\n",
    "Se tiene la funcion de utilidad;\n",
    "\n",
    "$$\n",
    "U = x^{1/2} y^{1/2}\n",
    "$$\n",
    "\n",
    "Se pide encontrar la tasa marginal de la funcion de utilidad\n",
    "\n"
   ]
  },
  {
   "cell_type": "code",
   "execution_count": 13,
   "metadata": {},
   "outputs": [
    {
     "data": {
      "image/png": "[encoded data removed]",
      "text/latex": [
       "$\\displaystyle x y$"
      ],
      "text/plain": [
       "x⋅y"
      ]
     },
     "execution_count": 13,
     "metadata": {},
     "output_type": "execute_result"
    }
   ],
   "source": [
    "# Se tiene la siguiente funcion de utilidad\n",
    "import numpy as np\n",
    "import sympy as sy\n",
    "sy.init_printing()\n",
    "\n",
    "x=sy.symbols(\"x\")\n",
    "y=sy.symbols(\"y\")\n",
    "\n",
    "U = x*y\n",
    "U\n"
   ]
  },
  {
   "cell_type": "code",
   "execution_count": 14,
   "metadata": {},
   "outputs": [
    {
     "data": {
      "image/png": "[encoded data removed]",
      "text/latex": [
       "$\\displaystyle y$"
      ],
      "text/plain": [
       "y"
      ]
     },
     "execution_count": 14,
     "metadata": {},
     "output_type": "execute_result"
    }
   ],
   "source": [
    "# Utilidad marginal x\n",
    "UMx = U.diff(x)\n",
    "UMx"
   ]
  },
  {
   "cell_type": "code",
   "execution_count": 15,
   "metadata": {},
   "outputs": [
    {
     "data": {
      "image/png": "[encoded data removed]",
      "text/latex": [
       "$\\displaystyle x$"
      ],
      "text/plain": [
       "x"
      ]
     },
     "execution_count": 15,
     "metadata": {},
     "output_type": "execute_result"
    }
   ],
   "source": [
    "# Utilidad marginal y\n",
    "UMy = U.diff(y)\n",
    "UMy"
   ]
  },
  {
   "cell_type": "code",
   "execution_count": 16,
   "metadata": {},
   "outputs": [
    {
     "data": {
      "image/png": "[encoded data removed]",
      "text/latex": [
       "$\\displaystyle \\frac{y}{x}$"
      ],
      "text/plain": [
       "y\n",
       "─\n",
       "x"
      ]
     },
     "execution_count": 16,
     "metadata": {},
     "output_type": "execute_result"
    }
   ],
   "source": [
    "TMS = UMx / UMy\n",
    "TMS"
   ]
  },
  {
   "cell_type": "markdown",
   "metadata": {},
   "source": [
    "Definimos la tasa marginal como una funcion a la cual se puede colocar valores"
   ]
  },
  {
   "cell_type": "code",
   "execution_count": 17,
   "metadata": {},
   "outputs": [],
   "source": [
    "def tasa(a,b):\n",
    "    x=sy.symbols(\"x\")\n",
    "    y=sy.symbols(\"y\")\n",
    "    U= x*y\n",
    "    U1=U.diff(x)\n",
    "    U2=U.diff(y)\n",
    "    RMS=U1 / U2\n",
    "    Tasa = RMS.subs({x:a, y:b})\n",
    "    return Tasa\n"
   ]
  },
  {
   "cell_type": "code",
   "execution_count": 18,
   "metadata": {},
   "outputs": [
    {
     "data": {
      "image/png": "[encoded data removed]",
      "text/latex": [
       "$\\displaystyle \\frac{5}{4}$"
      ],
      "text/plain": [
       "5/4"
      ]
     },
     "execution_count": 18,
     "metadata": {},
     "output_type": "execute_result"
    }
   ],
   "source": [
    "tasa(4,5)"
   ]
  },
  {
   "cell_type": "code",
   "execution_count": null,
   "metadata": {},
   "outputs": [],
   "source": []
  }
 ],
 "metadata": {
  "kernelspec": {
   "display_name": "Python 3 (ipykernel)",
   "language": "python",
   "name": "python3"
  },
  "language_info": {
   "codemirror_mode": {
    "name": "ipython",
    "version": 3
   },
   "file_extension": ".py",
   "mimetype": "text/x-python",
   "name": "python",
   "nbconvert_exporter": "python",
   "pygments_lexer": "ipython3",
   "version": "3.9.6"
  }
 },
 "nbformat": 4,
 "nbformat_minor": 4
}
