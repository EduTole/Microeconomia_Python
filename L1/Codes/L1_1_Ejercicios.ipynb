{
 "cells": [
  {
   "cell_type": "markdown",
   "id": "e808110d",
   "metadata": {},
   "source": [
    "<center>\n",
    "    <img src=\"upn_1.png\" width=\"400\" />\n",
    "</center>\n",
    "\n",
    "# Microeconomia 1\n",
    "## Analisis de Utilidad y preferencias\n",
    "\n",
    "La presente seccion se analizara los comandos en python que permitiran construir y realizar ejercicios matematicos respecto a la teoria del consumidor\n",
    "\n",
    "Se resuelve los ejercicios:\n",
    "- Ejercicios 2\n",
    "- Ejercicios 4 \n"
   ]
  },
  {
   "cell_type": "code",
   "execution_count": null,
   "id": "e8289e2d",
   "metadata": {},
   "outputs": [],
   "source": [
    "# Instalacion de librerias\n",
    "import numpy as np\n",
    "import sympy as sy\n",
    "sy.init_printing()"
   ]
  },
  {
   "cell_type": "markdown",
   "id": "c4ada335",
   "metadata": {},
   "source": [
    "### Ejercicios 2\n",
    "\n",
    "$$\n",
    "U(x,y)=x^{3/5}y^{4/5}\n",
    "$$\n",
    "\n",
    "Encontrar la tasa marginal de sustitucion \n",
    "- Definirla de manera simple\n",
    "- definirla como funcion (dado los valores de $x=4$ , $y=8$)\n"
   ]
  },
  {
   "cell_type": "code",
   "execution_count": null,
   "id": "f2de2374",
   "metadata": {},
   "outputs": [],
   "source": [
    "# Respuesta 2.0\n"
   ]
  },
  {
   "cell_type": "code",
   "execution_count": null,
   "id": "a17326e5",
   "metadata": {},
   "outputs": [],
   "source": [
    "# Funcion de utilidad\n"
   ]
  },
  {
   "cell_type": "code",
   "execution_count": null,
   "id": "dbd4f998",
   "metadata": {},
   "outputs": [],
   "source": [
    "# Tasa marghinal de sustitucion\n"
   ]
  },
  {
   "cell_type": "code",
   "execution_count": null,
   "id": "5f912641",
   "metadata": {},
   "outputs": [],
   "source": [
    "# Respuesta 2.1\n"
   ]
  },
  {
   "cell_type": "code",
   "execution_count": null,
   "id": "b5c46a12",
   "metadata": {},
   "outputs": [],
   "source": []
  },
  {
   "cell_type": "markdown",
   "id": "10495cfe",
   "metadata": {},
   "source": [
    "### Ejercicios 4"
   ]
  },
  {
   "cell_type": "markdown",
   "id": "c57d73b6",
   "metadata": {},
   "source": [
    "Para el ejercicio 4 , suponemos que los valores de x , y presentan valores de 4 respectivamente"
   ]
  },
  {
   "cell_type": "markdown",
   "id": "51924e33",
   "metadata": {},
   "source": [
    "### Pregunta a)"
   ]
  },
  {
   "cell_type": "code",
   "execution_count": null,
   "id": "f2af7add",
   "metadata": {},
   "outputs": [],
   "source": []
  },
  {
   "cell_type": "code",
   "execution_count": null,
   "id": "506897f8",
   "metadata": {},
   "outputs": [],
   "source": [
    "# Encontrando la Utilidad marginal \n"
   ]
  },
  {
   "cell_type": "code",
   "execution_count": null,
   "id": "ef22e824",
   "metadata": {},
   "outputs": [],
   "source": [
    "# Encontrando la Utilidad marginal \n"
   ]
  },
  {
   "cell_type": "markdown",
   "id": "f9e6f274",
   "metadata": {},
   "source": [
    "### Pregunta b) \n"
   ]
  },
  {
   "cell_type": "markdown",
   "id": "40f8261d",
   "metadata": {},
   "source": [
    "### Pregunta c) "
   ]
  },
  {
   "cell_type": "code",
   "execution_count": null,
   "id": "e1007b08",
   "metadata": {},
   "outputs": [],
   "source": []
  },
  {
   "cell_type": "code",
   "execution_count": null,
   "id": "be8f2e1b",
   "metadata": {},
   "outputs": [],
   "source": []
  }
 ],
 "metadata": {
  "kernelspec": {
   "display_name": "python_last",
   "language": "python",
   "name": "python_last"
  },
  "language_info": {
   "codemirror_mode": {
    "name": "ipython",
    "version": 3
   },
   "file_extension": ".py",
   "mimetype": "text/x-python",
   "name": "python",
   "nbconvert_exporter": "python",
   "pygments_lexer": "ipython3",
   "version": "3.11.0"
  }
 },
 "nbformat": 4,
 "nbformat_minor": 5
}
